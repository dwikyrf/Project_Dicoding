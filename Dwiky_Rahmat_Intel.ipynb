{
  "cells": [
    {
      "cell_type": "markdown",
      "metadata": {
        "id": "view-in-github",
        "colab_type": "text"
      },
      "source": [
        "<a href=\"https://colab.research.google.com/github/dwikyrf/Project_Dicoding/blob/main/Dwiky_Rahmat_Intel.ipynb\" target=\"_parent\"><img src=\"https://colab.research.google.com/assets/colab-badge.svg\" alt=\"Open In Colab\"/></a>"
      ]
    },
    {
      "cell_type": "code",
      "execution_count": null,
      "metadata": {
        "id": "LXrZ1CA_h-G4"
      },
      "outputs": [],
      "source": [
        " #PROFIL DICODING : Dwiky Rahmat"
      ]
    },
    {
      "cell_type": "code",
      "execution_count": null,
      "metadata": {
        "id": "_eRQ9cDPjKZI"
      },
      "outputs": [],
      "source": [
        "import tensorflow as tf\n",
        "import matplotlib.image as mpimg\n",
        "import zipfile\n",
        "import os\n",
        "import matplotlib.pyplot as plt\n",
        "import numpy as np\n",
        "import matplotlib.image as mpimg\n",
        "from tensorflow.keras.preprocessing.image import ImageDataGenerator\n",
        "from sklearn.metrics import classification_report, confusion_matrix\n",
        "from google.colab import files\n",
        "from keras.preprocessing import image\n",
        "from keras.callbacks import ReduceLROnPlateau"
      ]
    },
    {
      "cell_type": "code",
      "source": [
        "! pip install -q kaggle"
      ],
      "metadata": {
        "id": "-Ycss-I-mWgO"
      },
      "execution_count": null,
      "outputs": []
    },
    {
      "cell_type": "code",
      "source": [
        "from google.colab import files\n",
        "\n",
        "files.upload()"
      ],
      "metadata": {
        "colab": {
          "base_uri": "https://localhost:8080/",
          "height": 90
        },
        "id": "smv_uUIEmXcH",
        "outputId": "884a0c9e-7042-4637-f449-010d7cf25492"
      },
      "execution_count": null,
      "outputs": [
        {
          "output_type": "display_data",
          "data": {
            "text/plain": [
              "<IPython.core.display.HTML object>"
            ],
            "text/html": [
              "\n",
              "     <input type=\"file\" id=\"files-a01c1af3-f9d7-4147-918b-3f7e6693c201\" name=\"files[]\" multiple disabled\n",
              "        style=\"border:none\" />\n",
              "     <output id=\"result-a01c1af3-f9d7-4147-918b-3f7e6693c201\">\n",
              "      Upload widget is only available when the cell has been executed in the\n",
              "      current browser session. Please rerun this cell to enable.\n",
              "      </output>\n",
              "      <script>// Copyright 2017 Google LLC\n",
              "//\n",
              "// Licensed under the Apache License, Version 2.0 (the \"License\");\n",
              "// you may not use this file except in compliance with the License.\n",
              "// You may obtain a copy of the License at\n",
              "//\n",
              "//      http://www.apache.org/licenses/LICENSE-2.0\n",
              "//\n",
              "// Unless required by applicable law or agreed to in writing, software\n",
              "// distributed under the License is distributed on an \"AS IS\" BASIS,\n",
              "// WITHOUT WARRANTIES OR CONDITIONS OF ANY KIND, either express or implied.\n",
              "// See the License for the specific language governing permissions and\n",
              "// limitations under the License.\n",
              "\n",
              "/**\n",
              " * @fileoverview Helpers for google.colab Python module.\n",
              " */\n",
              "(function(scope) {\n",
              "function span(text, styleAttributes = {}) {\n",
              "  const element = document.createElement('span');\n",
              "  element.textContent = text;\n",
              "  for (const key of Object.keys(styleAttributes)) {\n",
              "    element.style[key] = styleAttributes[key];\n",
              "  }\n",
              "  return element;\n",
              "}\n",
              "\n",
              "// Max number of bytes which will be uploaded at a time.\n",
              "const MAX_PAYLOAD_SIZE = 100 * 1024;\n",
              "\n",
              "function _uploadFiles(inputId, outputId) {\n",
              "  const steps = uploadFilesStep(inputId, outputId);\n",
              "  const outputElement = document.getElementById(outputId);\n",
              "  // Cache steps on the outputElement to make it available for the next call\n",
              "  // to uploadFilesContinue from Python.\n",
              "  outputElement.steps = steps;\n",
              "\n",
              "  return _uploadFilesContinue(outputId);\n",
              "}\n",
              "\n",
              "// This is roughly an async generator (not supported in the browser yet),\n",
              "// where there are multiple asynchronous steps and the Python side is going\n",
              "// to poll for completion of each step.\n",
              "// This uses a Promise to block the python side on completion of each step,\n",
              "// then passes the result of the previous step as the input to the next step.\n",
              "function _uploadFilesContinue(outputId) {\n",
              "  const outputElement = document.getElementById(outputId);\n",
              "  const steps = outputElement.steps;\n",
              "\n",
              "  const next = steps.next(outputElement.lastPromiseValue);\n",
              "  return Promise.resolve(next.value.promise).then((value) => {\n",
              "    // Cache the last promise value to make it available to the next\n",
              "    // step of the generator.\n",
              "    outputElement.lastPromiseValue = value;\n",
              "    return next.value.response;\n",
              "  });\n",
              "}\n",
              "\n",
              "/**\n",
              " * Generator function which is called between each async step of the upload\n",
              " * process.\n",
              " * @param {string} inputId Element ID of the input file picker element.\n",
              " * @param {string} outputId Element ID of the output display.\n",
              " * @return {!Iterable<!Object>} Iterable of next steps.\n",
              " */\n",
              "function* uploadFilesStep(inputId, outputId) {\n",
              "  const inputElement = document.getElementById(inputId);\n",
              "  inputElement.disabled = false;\n",
              "\n",
              "  const outputElement = document.getElementById(outputId);\n",
              "  outputElement.innerHTML = '';\n",
              "\n",
              "  const pickedPromise = new Promise((resolve) => {\n",
              "    inputElement.addEventListener('change', (e) => {\n",
              "      resolve(e.target.files);\n",
              "    });\n",
              "  });\n",
              "\n",
              "  const cancel = document.createElement('button');\n",
              "  inputElement.parentElement.appendChild(cancel);\n",
              "  cancel.textContent = 'Cancel upload';\n",
              "  const cancelPromise = new Promise((resolve) => {\n",
              "    cancel.onclick = () => {\n",
              "      resolve(null);\n",
              "    };\n",
              "  });\n",
              "\n",
              "  // Wait for the user to pick the files.\n",
              "  const files = yield {\n",
              "    promise: Promise.race([pickedPromise, cancelPromise]),\n",
              "    response: {\n",
              "      action: 'starting',\n",
              "    }\n",
              "  };\n",
              "\n",
              "  cancel.remove();\n",
              "\n",
              "  // Disable the input element since further picks are not allowed.\n",
              "  inputElement.disabled = true;\n",
              "\n",
              "  if (!files) {\n",
              "    return {\n",
              "      response: {\n",
              "        action: 'complete',\n",
              "      }\n",
              "    };\n",
              "  }\n",
              "\n",
              "  for (const file of files) {\n",
              "    const li = document.createElement('li');\n",
              "    li.append(span(file.name, {fontWeight: 'bold'}));\n",
              "    li.append(span(\n",
              "        `(${file.type || 'n/a'}) - ${file.size} bytes, ` +\n",
              "        `last modified: ${\n",
              "            file.lastModifiedDate ? file.lastModifiedDate.toLocaleDateString() :\n",
              "                                    'n/a'} - `));\n",
              "    const percent = span('0% done');\n",
              "    li.appendChild(percent);\n",
              "\n",
              "    outputElement.appendChild(li);\n",
              "\n",
              "    const fileDataPromise = new Promise((resolve) => {\n",
              "      const reader = new FileReader();\n",
              "      reader.onload = (e) => {\n",
              "        resolve(e.target.result);\n",
              "      };\n",
              "      reader.readAsArrayBuffer(file);\n",
              "    });\n",
              "    // Wait for the data to be ready.\n",
              "    let fileData = yield {\n",
              "      promise: fileDataPromise,\n",
              "      response: {\n",
              "        action: 'continue',\n",
              "      }\n",
              "    };\n",
              "\n",
              "    // Use a chunked sending to avoid message size limits. See b/62115660.\n",
              "    let position = 0;\n",
              "    do {\n",
              "      const length = Math.min(fileData.byteLength - position, MAX_PAYLOAD_SIZE);\n",
              "      const chunk = new Uint8Array(fileData, position, length);\n",
              "      position += length;\n",
              "\n",
              "      const base64 = btoa(String.fromCharCode.apply(null, chunk));\n",
              "      yield {\n",
              "        response: {\n",
              "          action: 'append',\n",
              "          file: file.name,\n",
              "          data: base64,\n",
              "        },\n",
              "      };\n",
              "\n",
              "      let percentDone = fileData.byteLength === 0 ?\n",
              "          100 :\n",
              "          Math.round((position / fileData.byteLength) * 100);\n",
              "      percent.textContent = `${percentDone}% done`;\n",
              "\n",
              "    } while (position < fileData.byteLength);\n",
              "  }\n",
              "\n",
              "  // All done.\n",
              "  yield {\n",
              "    response: {\n",
              "      action: 'complete',\n",
              "    }\n",
              "  };\n",
              "}\n",
              "\n",
              "scope.google = scope.google || {};\n",
              "scope.google.colab = scope.google.colab || {};\n",
              "scope.google.colab._files = {\n",
              "  _uploadFiles,\n",
              "  _uploadFilesContinue,\n",
              "};\n",
              "})(self);\n",
              "</script> "
            ]
          },
          "metadata": {}
        },
        {
          "output_type": "stream",
          "name": "stdout",
          "text": [
            "Saving kaggle.json to kaggle.json\n"
          ]
        },
        {
          "output_type": "execute_result",
          "data": {
            "text/plain": [
              "{'kaggle.json': b'{\"username\":\"dwikyrahmatfadhila\",\"key\":\"47649f50c01f68baf73ab2af1f3aee08\"}'}"
            ]
          },
          "metadata": {},
          "execution_count": 4
        }
      ]
    },
    {
      "cell_type": "code",
      "source": [
        "! chmod 600 ~/.kaggle/kaggle.json"
      ],
      "metadata": {
        "colab": {
          "base_uri": "https://localhost:8080/"
        },
        "id": "pkkIGKtBmf-t",
        "outputId": "da5ea991-5f16-44f3-d776-0caec336ca04"
      },
      "execution_count": null,
      "outputs": [
        {
          "output_type": "stream",
          "name": "stdout",
          "text": [
            "chmod: cannot access '/root/.kaggle/kaggle.json': No such file or directory\n"
          ]
        }
      ]
    },
    {
      "cell_type": "code",
      "source": [
        "! KAGGLE_CONFIG_DIR=/content/ kaggle datasets download -d puneet6060/intel-image-classification"
      ],
      "metadata": {
        "id": "D3w-G2zeovVs",
        "outputId": "934ff2bc-6288-4db5-8983-5eb3e58490c9",
        "colab": {
          "base_uri": "https://localhost:8080/"
        }
      },
      "execution_count": null,
      "outputs": [
        {
          "output_type": "stream",
          "name": "stdout",
          "text": [
            "Warning: Your Kaggle API key is readable by other users on this system! To fix this, you can run 'chmod 600 /content/kaggle.json'\n",
            "Downloading intel-image-classification.zip to /content\n",
            " 96% 331M/346M [00:01<00:00, 220MB/s]\n",
            "100% 346M/346M [00:01<00:00, 203MB/s]\n"
          ]
        }
      ]
    },
    {
      "cell_type": "code",
      "source": [
        "local_zip = '/content/intel-image-classification.zip'\n",
        "zip_ref = zipfile.ZipFile(local_zip, 'r')\n",
        "zip_ref.extractall('/content')\n",
        "zip_ref.close()\n",
        "base_dir = '/content/seg_train/'\n",
        "data_dir_train = os.path.join(base_dir, 'seg_train')\n",
        "class_names = ['mountain', 'street', 'glacier', 'buildings', 'sea', 'forest']\n",
        "\n",
        "class_names_label = {class_name:i for i, class_name in enumerate(class_names)}\n",
        "IMAGE_SIZE = (150,150)\n",
        "\n",
        "train_datagen = ImageDataGenerator(\n",
        "                rescale=1./255,\n",
        "                rotation_range=20,\n",
        "                horizontal_flip=True,\n",
        "                shear_range = 0.2,\n",
        "                fill_mode = 'nearest',\n",
        "                validation_split=0.2)\n",
        "\n",
        "validation_datagen = ImageDataGenerator(\n",
        "                rescale = 1.0/255,\n",
        "                validation_split=0.2)"
      ],
      "metadata": {
        "id": "q5xxjyiWqT5Q"
      },
      "execution_count": null,
      "outputs": []
    },
    {
      "cell_type": "code",
      "source": [
        "train_generator = train_datagen.flow_from_directory(\n",
        "        data_dir_train,\n",
        "        target_size=(150,150),\n",
        "        batch_size=32,\n",
        "        class_mode='categorical',\n",
        "        subset='training')\n",
        "\n",
        "validation_generator = validation_datagen.flow_from_directory(\n",
        "        data_dir_train,\n",
        "        target_size=(150,150),\n",
        "        batch_size=32,\n",
        "        class_mode='categorical',\n",
        "        subset='validation')"
      ],
      "metadata": {
        "id": "d_zLtt13rQTr",
        "outputId": "2dca161a-ef6b-4f00-977b-0b16c84c1c2f",
        "colab": {
          "base_uri": "https://localhost:8080/"
        }
      },
      "execution_count": null,
      "outputs": [
        {
          "output_type": "stream",
          "name": "stdout",
          "text": [
            "Found 11230 images belonging to 6 classes.\n",
            "Found 2804 images belonging to 6 classes.\n"
          ]
        }
      ]
    },
    {
      "cell_type": "code",
      "source": [
        "model = tf.keras.models.Sequential([\n",
        "    tf.keras.layers.Conv2D(32, (3, 3), activation='relu', input_shape=(150, 150, 3)),\n",
        "    tf.keras.layers.MaxPooling2D(2, 2),\n",
        "    tf.keras.layers.Dropout(0.2),\n",
        "    tf.keras.layers.Conv2D(64, (3, 3), activation='relu'),\n",
        "    tf.keras.layers.MaxPooling2D(2, 2),\n",
        "    tf.keras.layers.Dropout(0.2),\n",
        "    tf.keras.layers.Conv2D(128, (3, 3), activation='relu'),\n",
        "    tf.keras.layers.MaxPooling2D(2, 2),\n",
        "    tf.keras.layers.Dropout(0.2),\n",
        "    tf.keras.layers.Flatten(),\n",
        "    tf.keras.layers.Dense(64, activation='relu'),\n",
        "    tf.keras.layers.Dropout(0.2),\n",
        "    tf.keras.layers.Dense(6, activation='softmax')\n",
        "])\n"
      ],
      "metadata": {
        "id": "v0HVtoPcs9wj"
      },
      "execution_count": null,
      "outputs": []
    },
    {
      "cell_type": "code",
      "source": [
        "class myCallback(tf.keras.callbacks.Callback):\n",
        "  def on_epoch_end(self, epoch, logs={}):\n",
        "    if(logs.get('accuracy')>0.92):\n",
        "      print(\"\\nAkurasi telah mencapai >92%!\")\n",
        "      self.model.stop_training = True\n",
        "\n",
        "\n",
        "model.compile(loss='categorical_crossentropy',\n",
        "              optimizer='adam',\n",
        "              metrics=['accuracy'])\n",
        "\n",
        "history = model.fit(\n",
        "    train_generator,\n",
        "    epochs=30,\n",
        "    validation_data=validation_generator,\n",
        "    callbacks = myCallback())"
      ],
      "metadata": {
        "id": "VlXDFfMrtKQS",
        "outputId": "ce180220-3352-45ca-f7ab-fefb29de7626",
        "colab": {
          "base_uri": "https://localhost:8080/"
        }
      },
      "execution_count": null,
      "outputs": [
        {
          "output_type": "stream",
          "name": "stdout",
          "text": [
            "Epoch 1/30\n",
            "351/351 [==============================] - 63s 179ms/step - loss: 1.2450 - accuracy: 0.5217 - val_loss: 0.9261 - val_accuracy: 0.6480\n",
            "Epoch 2/30\n",
            "351/351 [==============================] - 69s 198ms/step - loss: 0.9958 - accuracy: 0.6065 - val_loss: 0.7993 - val_accuracy: 0.7236\n",
            "Epoch 3/30\n",
            "351/351 [==============================] - 68s 193ms/step - loss: 0.8930 - accuracy: 0.6510 - val_loss: 0.7211 - val_accuracy: 0.7518\n",
            "Epoch 4/30\n",
            "351/351 [==============================] - 64s 181ms/step - loss: 0.8055 - accuracy: 0.7009 - val_loss: 0.6659 - val_accuracy: 0.7735\n",
            "Epoch 5/30\n",
            "351/351 [==============================] - 62s 177ms/step - loss: 0.7515 - accuracy: 0.7197 - val_loss: 0.6088 - val_accuracy: 0.7892\n",
            "Epoch 6/30\n",
            "351/351 [==============================] - 63s 180ms/step - loss: 0.7137 - accuracy: 0.7412 - val_loss: 0.6221 - val_accuracy: 0.7693\n",
            "Epoch 7/30\n",
            "351/351 [==============================] - 62s 176ms/step - loss: 0.6762 - accuracy: 0.7533 - val_loss: 0.6115 - val_accuracy: 0.7953\n",
            "Epoch 8/30\n",
            "351/351 [==============================] - 77s 220ms/step - loss: 0.6432 - accuracy: 0.7645 - val_loss: 0.5275 - val_accuracy: 0.8160\n",
            "Epoch 9/30\n",
            "351/351 [==============================] - 66s 187ms/step - loss: 0.6230 - accuracy: 0.7723 - val_loss: 0.5600 - val_accuracy: 0.8049\n",
            "Epoch 10/30\n",
            "351/351 [==============================] - 62s 177ms/step - loss: 0.6038 - accuracy: 0.7860 - val_loss: 0.5107 - val_accuracy: 0.8224\n",
            "Epoch 11/30\n",
            "351/351 [==============================] - 62s 176ms/step - loss: 0.5779 - accuracy: 0.7928 - val_loss: 0.4980 - val_accuracy: 0.8324\n",
            "Epoch 12/30\n",
            "351/351 [==============================] - 63s 178ms/step - loss: 0.5675 - accuracy: 0.7952 - val_loss: 0.4625 - val_accuracy: 0.8363\n",
            "Epoch 13/30\n",
            "351/351 [==============================] - 63s 178ms/step - loss: 0.5593 - accuracy: 0.7942 - val_loss: 0.4643 - val_accuracy: 0.8402\n",
            "Epoch 14/30\n",
            "351/351 [==============================] - 63s 178ms/step - loss: 0.5344 - accuracy: 0.8031 - val_loss: 0.4524 - val_accuracy: 0.8349\n",
            "Epoch 15/30\n",
            "351/351 [==============================] - 62s 176ms/step - loss: 0.5254 - accuracy: 0.8048 - val_loss: 0.5712 - val_accuracy: 0.7907\n",
            "Epoch 16/30\n",
            "351/351 [==============================] - 63s 179ms/step - loss: 0.5100 - accuracy: 0.8137 - val_loss: 0.4583 - val_accuracy: 0.8417\n",
            "Epoch 17/30\n",
            "351/351 [==============================] - 62s 176ms/step - loss: 0.4995 - accuracy: 0.8134 - val_loss: 0.4528 - val_accuracy: 0.8417\n",
            "Epoch 18/30\n",
            "351/351 [==============================] - 62s 175ms/step - loss: 0.4844 - accuracy: 0.8204 - val_loss: 0.5101 - val_accuracy: 0.8267\n",
            "Epoch 19/30\n",
            "351/351 [==============================] - 63s 179ms/step - loss: 0.4735 - accuracy: 0.8267 - val_loss: 0.4549 - val_accuracy: 0.8399\n",
            "Epoch 20/30\n",
            "351/351 [==============================] - 62s 178ms/step - loss: 0.4650 - accuracy: 0.8291 - val_loss: 0.4497 - val_accuracy: 0.8356\n",
            "Epoch 21/30\n",
            "351/351 [==============================] - 62s 177ms/step - loss: 0.4518 - accuracy: 0.8313 - val_loss: 0.4725 - val_accuracy: 0.8342\n",
            "Epoch 22/30\n",
            "351/351 [==============================] - 63s 179ms/step - loss: 0.4522 - accuracy: 0.8342 - val_loss: 0.4504 - val_accuracy: 0.8438\n",
            "Epoch 23/30\n",
            "351/351 [==============================] - 62s 176ms/step - loss: 0.4529 - accuracy: 0.8317 - val_loss: 0.4778 - val_accuracy: 0.8377\n",
            "Epoch 24/30\n",
            "351/351 [==============================] - 62s 176ms/step - loss: 0.4337 - accuracy: 0.8418 - val_loss: 0.4443 - val_accuracy: 0.8431\n",
            "Epoch 25/30\n",
            "351/351 [==============================] - 62s 176ms/step - loss: 0.4404 - accuracy: 0.8361 - val_loss: 0.4609 - val_accuracy: 0.8431\n",
            "Epoch 26/30\n",
            "351/351 [==============================] - 63s 179ms/step - loss: 0.4185 - accuracy: 0.8439 - val_loss: 0.4687 - val_accuracy: 0.8359\n",
            "Epoch 27/30\n",
            "351/351 [==============================] - 64s 182ms/step - loss: 0.4253 - accuracy: 0.8444 - val_loss: 0.4568 - val_accuracy: 0.8520\n",
            "Epoch 28/30\n",
            "351/351 [==============================] - 62s 177ms/step - loss: 0.4160 - accuracy: 0.8466 - val_loss: 0.4468 - val_accuracy: 0.8417\n",
            "Epoch 29/30\n",
            "351/351 [==============================] - 63s 179ms/step - loss: 0.4003 - accuracy: 0.8542 - val_loss: 0.4745 - val_accuracy: 0.8359\n",
            "Epoch 30/30\n",
            "351/351 [==============================] - 62s 176ms/step - loss: 0.3996 - accuracy: 0.8526 - val_loss: 0.4611 - val_accuracy: 0.8491\n"
          ]
        }
      ]
    },
    {
      "cell_type": "code",
      "source": [
        "def eval_plot(history):\n",
        "\n",
        "  plt.figure(figsize=(14, 5))\n",
        "\n",
        "  plt.subplot(1, 2, 1)\n",
        "  acc = history.history['accuracy']\n",
        "  val_acc = history.history['val_accuracy']\n",
        "  epochs = range(len(acc))\n",
        "  acc_plot, = plt.plot(epochs, acc, 'r')\n",
        "  val_acc_plot, = plt.plot(epochs, val_acc, 'b')\n",
        "  plt.title('Training and Validation Accuracy')\n",
        "  plt.legend([acc_plot, val_acc_plot], ['Training Accuracy', 'Validation Accuracy'])\n",
        "\n",
        "  plt.subplot(1, 2, 2)\n",
        "  loss = history.history['loss']\n",
        "  val_loss = history.history['val_loss']\n",
        "  epochs = range(len(loss))\n",
        "  loss_plot, = plt.plot(epochs, loss, 'r')\n",
        "  val_loss_plot, = plt.plot(epochs, val_loss, 'b')\n",
        "  plt.title('Training and Validation Loss')\n",
        "  plt.legend([loss_plot, val_loss_plot], ['Training Loss', 'Validation Loss'])"
      ],
      "metadata": {
        "id": "Re2Uqha95wv5"
      },
      "execution_count": null,
      "outputs": []
    },
    {
      "cell_type": "code",
      "source": [
        " def evaluate(model):\n",
        "\n",
        "  validation_generator = train_datagen.flow_from_directory(\n",
        "          data_dir_train,\n",
        "          target_size=(150,150),\n",
        "          batch_size=32,\n",
        "          class_mode='categorical',\n",
        "          shuffle = False,\n",
        "          subset='validation')\n",
        "\n",
        "  batch_size = 32\n",
        "  num_of_test_samples = len(validation_generator.filenames)\n",
        "\n",
        "  Y_pred = model.predict_generator(validation_generator, num_of_test_samples // batch_size+1)\n",
        "  y_pred = np.argmax(Y_pred, axis=1)\n",
        "\n",
        "  print('\\nConfusion Matrix\\n')\n",
        "  print(confusion_matrix(validation_generator.classes, y_pred))\n",
        "\n",
        "\n",
        "  print('\\n\\nClassification Report\\n')\n",
        "  target_names = ['mountain', 'street', 'glacier', 'buildings', 'sea', 'forest']\n",
        "  print(classification_report(validation_generator.classes, y_pred, target_names=target_names))"
      ],
      "metadata": {
        "id": "81VsTnNM51Lb"
      },
      "execution_count": null,
      "outputs": []
    },
    {
      "cell_type": "code",
      "source": [
        "eval_plot(history)\n",
        "evaluate(model)"
      ],
      "metadata": {
        "id": "ygJqM6nX51Sb",
        "outputId": "6117d4d5-8c82-41f2-8658-d38312203bcc",
        "colab": {
          "base_uri": "https://localhost:8080/",
          "height": 859
        }
      },
      "execution_count": null,
      "outputs": [
        {
          "output_type": "stream",
          "name": "stdout",
          "text": [
            "Found 2804 images belonging to 6 classes.\n"
          ]
        },
        {
          "output_type": "stream",
          "name": "stderr",
          "text": [
            "/usr/local/lib/python3.7/dist-packages/ipykernel_launcher.py:14: UserWarning: `Model.predict_generator` is deprecated and will be removed in a future version. Please use `Model.predict`, which supports generators.\n",
            "  \n"
          ]
        },
        {
          "output_type": "stream",
          "name": "stdout",
          "text": [
            "\n",
            "Confusion Matrix\n",
            "\n",
            "[[379   6   7  11   5  30]\n",
            " [  5 438   1   5   1   4]\n",
            " [  3   4 360  94  13   6]\n",
            " [  3   2  47 438  10   2]\n",
            " [ 13   1  22  48 364   6]\n",
            " [ 73   7   2   4   5 385]]\n",
            "\n",
            "\n",
            "Classification Report\n",
            "\n",
            "              precision    recall  f1-score   support\n",
            "\n",
            "    mountain       0.80      0.87      0.83       438\n",
            "      street       0.96      0.96      0.96       454\n",
            "     glacier       0.82      0.75      0.78       480\n",
            "   buildings       0.73      0.87      0.79       502\n",
            "         sea       0.91      0.80      0.85       454\n",
            "      forest       0.89      0.81      0.85       476\n",
            "\n",
            "    accuracy                           0.84      2804\n",
            "   macro avg       0.85      0.84      0.84      2804\n",
            "weighted avg       0.85      0.84      0.84      2804\n",
            "\n"
          ]
        },
        {
          "output_type": "display_data",
          "data": {
            "text/plain": [
              "<Figure size 1008x360 with 2 Axes>"
            ],
            "image/png": "[encoded data removed]"
          },
          "metadata": {
            "needs_background": "light"
          }
        }
      ]
    },
    {
      "cell_type": "code",
      "source": [
        "import pathlib\n",
        "export_dir = 'saved_model/'\n",
        "tf.saved_model.save(model, export_dir)\n",
        "\n",
        "converter = tf.lite.TFLiteConverter.from_saved_model(export_dir)\n",
        "tflite_model = converter.convert()\n",
        "\n",
        "tflite_model_file = pathlib.Path('submission3.tflite')\n",
        "tflite_model_file.write_bytes(tflite_model)"
      ],
      "metadata": {
        "id": "7j2qicQ36JeJ",
        "outputId": "352101aa-4777-44db-ad7f-08c23a6dab8e",
        "colab": {
          "base_uri": "https://localhost:8080/"
        }
      },
      "execution_count": null,
      "outputs": [
        {
          "output_type": "stream",
          "name": "stderr",
          "text": [
            "WARNING:absl:Found untraced functions such as _jit_compiled_convolution_op, _jit_compiled_convolution_op, _jit_compiled_convolution_op while saving (showing 3 of 3). These functions will not be directly callable after loading.\n"
          ]
        },
        {
          "output_type": "execute_result",
          "data": {
            "text/plain": [
              "9848832"
            ]
          },
          "metadata": {},
          "execution_count": 24
        }
      ]
    }
  ],
  "metadata": {
    "colab": {
      "provenance": [],
      "include_colab_link": true
    },
    "kernelspec": {
      "display_name": "Python 3",
      "name": "python3"
    },
    "language_info": {
      "name": "python"
    },
    "accelerator": "GPU",
    "gpuClass": "standard"
  },
  "nbformat": 4,
  "nbformat_minor": 0
}